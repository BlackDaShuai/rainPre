{
 "cells": [
  {
   "cell_type": "code",
   "id": "initial_id",
   "metadata": {
    "collapsed": true,
    "ExecuteTime": {
     "end_time": "2024-10-12T14:47:39.080809Z",
     "start_time": "2024-10-12T14:47:39.066810Z"
    }
   },
   "source": [
    "import os\n",
    "import torch\n",
    "import torchvision.transforms as transforms\n",
    "from PIL import Image\n",
    "from torch import nn\n",
    "from torch.utils.data import Dataset, DataLoader\n",
    "import torch.nn.functional as F\n"
   ],
   "outputs": [],
   "execution_count": 11
  },
  {
   "metadata": {
    "ExecuteTime": {
     "end_time": "2024-10-12T14:47:39.095942Z",
     "start_time": "2024-10-12T14:47:39.086942Z"
    }
   },
   "cell_type": "code",
   "source": [
    "class ImageSequenceDataset(Dataset):\n",
    "    def __init__(self, image_folder):\n",
    "        self.image_folder = image_folder\n",
    "        self.images = sorted(os.listdir(image_folder), key=lambda x: int(x.split('.')[0]))  # 按序号排序\n",
    "        self.transform = transforms.Compose([\n",
    "            transforms.Resize((256, 256)),  # 调整图片大小\n",
    "            transforms.ToTensor(),  # 转换为张量\n",
    "        ])\n",
    "\n",
    "    def __len__(self):\n",
    "        return len(self.images) - 1  # 返回序列数量\n",
    "\n",
    "    def __getitem__(self, idx):\n",
    "        img_path = os.path.join(self.image_folder, self.images[idx])\n",
    "        img = Image.open(img_path).convert('RGB')  # 读取图片并转换为RGB\n",
    "        img = self.transform(img)\n",
    "        \n",
    "        next_img_path = os.path.join(self.image_folder, self.images[idx + 1])\n",
    "        next_img = Image.open(next_img_path).convert('RGB')\n",
    "        next_img = self.transform(next_img)\n",
    "\n",
    "        return img, next_img\n"
   ],
   "id": "223d48e39ff3d276",
   "outputs": [],
   "execution_count": 12
  },
  {
   "metadata": {
    "ExecuteTime": {
     "end_time": "2024-10-12T14:47:39.144063Z",
     "start_time": "2024-10-12T14:47:39.130063Z"
    }
   },
   "cell_type": "code",
   "source": [
    "class SimpleCNN(nn.Module):\n",
    "    def __init__(self):\n",
    "        super(SimpleCNN, self).__init__()\n",
    "        self.conv1 = nn.Conv2d(3, 16, kernel_size=3, padding=1)\n",
    "        self.pool = nn.MaxPool2d(kernel_size=2, stride=2)\n",
    "        self.conv2 = nn.Conv2d(16, 32, kernel_size=3, padding=1)\n",
    "        self.fc1 = nn.Linear(32 * 64 * 64, 128)  # 假设输入图像经过pool后为64x64\n",
    "        self.fc2 = nn.Linear(128, 3 * 256 * 256)  # 输出下一张图像\n",
    "\n",
    "    def forward(self, x):\n",
    "        x = self.pool(F.relu(self.conv1(x)))\n",
    "        x = self.pool(F.relu(self.conv2(x)))\n",
    "        x = x.view(-1, 32 * 64 * 64)\n",
    "        x = F.relu(self.fc1(x))\n",
    "        x = self.fc2(x)\n",
    "        x = x.view(-1, 3, 256, 256)  # 变形为图像\n",
    "        return x\n"
   ],
   "id": "78b0921f776dbc16",
   "outputs": [],
   "execution_count": 13
  },
  {
   "metadata": {
    "ExecuteTime": {
     "end_time": "2024-10-12T14:48:41.771186Z",
     "start_time": "2024-10-12T14:47:39.176925Z"
    }
   },
   "cell_type": "code",
   "source": [
    "# 设置参数\n",
    "image_folder = 'overDataSet'  # 替换为你的图片文件夹路径\n",
    "batch_size = 4\n",
    "learning_rate = 0.001\n",
    "num_epochs = 3\n",
    "\n",
    "# 创建数据集和数据加载器\n",
    "dataset = ImageSequenceDataset(image_folder)\n",
    "dataloader = DataLoader(dataset, batch_size=batch_size, shuffle=True)\n",
    "\n",
    "# 初始化模型、损失函数和优化器\n",
    "model = SimpleCNN()\n",
    "criterion = nn.MSELoss()\n",
    "optimizer = torch.optim.Adam(model.parameters(), lr=learning_rate)\n",
    "\n",
    "# 训练模型\n",
    "for epoch in range(num_epochs):\n",
    "    for imgs, next_imgs in dataloader:\n",
    "        optimizer.zero_grad()\n",
    "        outputs = model(imgs)\n",
    "        loss = criterion(outputs, next_imgs)\n",
    "        loss.backward()\n",
    "        optimizer.step()\n",
    "    print(f'Epoch [{epoch+1}/{num_epochs}], Loss: {loss.item():.4f}')\n"
   ],
   "id": "8049c5ee94b4a905",
   "outputs": [
    {
     "name": "stdout",
     "output_type": "stream",
     "text": [
      "Epoch [1/3], Loss: 0.0068\n",
      "Epoch [2/3], Loss: 0.0101\n",
      "Epoch [3/3], Loss: 0.0185\n"
     ]
    }
   ],
   "execution_count": 14
  },
  {
   "metadata": {
    "ExecuteTime": {
     "end_time": "2024-10-12T14:48:41.881797Z",
     "start_time": "2024-10-12T14:48:41.805546Z"
    }
   },
   "cell_type": "code",
   "source": [
    "# 预测下一张图片\n",
    "model.eval()\n",
    "with torch.no_grad():\n",
    "    last_img_path = os.path.join(image_folder, '240.png')  # 最后一张图片的名称\n",
    "    last_img = Image.open(last_img_path).convert('RGB')\n",
    "    last_img = transforms.Resize((256, 256))(last_img)\n",
    "    last_img = transforms.ToTensor()(last_img).unsqueeze(0)  # 添加批量维度\n",
    "\n",
    "    predicted_img = model(last_img)\n",
    "    predicted_img = predicted_img.squeeze(0).permute(1, 2, 0)  # 变形为HWC\n",
    "    predicted_img = (predicted_img.numpy() * 255).astype('uint8')\n",
    "\n",
    "    # 保存或显示预测结果\n",
    "    Image.fromarray(predicted_img).save('predicted_image.png')\n"
   ],
   "id": "ff212a84a9f81a96",
   "outputs": [],
   "execution_count": 15
  }
 ],
 "metadata": {
  "kernelspec": {
   "display_name": "Python 3",
   "language": "python",
   "name": "python3"
  },
  "language_info": {
   "codemirror_mode": {
    "name": "ipython",
    "version": 2
   },
   "file_extension": ".py",
   "mimetype": "text/x-python",
   "name": "python",
   "nbconvert_exporter": "python",
   "pygments_lexer": "ipython2",
   "version": "2.7.6"
  }
 },
 "nbformat": 4,
 "nbformat_minor": 5
}
