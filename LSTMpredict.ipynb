{
 "cells": [
  {
   "cell_type": "code",
   "id": "initial_id",
   "metadata": {
    "collapsed": true,
    "ExecuteTime": {
     "end_time": "2024-10-12T14:55:46.775042Z",
     "start_time": "2024-10-12T14:55:46.762041Z"
    }
   },
   "source": [
    "import os\n",
    "import torch\n",
    "import torchvision.transforms as transforms\n",
    "from PIL import Image\n",
    "from torch import nn\n",
    "from torch.utils.data import Dataset, DataLoader\n",
    "import torch.nn.functional as F\n",
    "\n",
    "if torch.cuda.is_available():\n",
    "    device = torch.device('cuda')  # 使用GPU\n",
    "    print(\"GPU is available.\")\n",
    "else:\n",
    "    device = torch.device('cpu')  # 使用CPU\n",
    "    print(\"GPU is not available, using CPU.\")\n"
   ],
   "outputs": [
    {
     "name": "stdout",
     "output_type": "stream",
     "text": [
      "GPU is available.\n"
     ]
    }
   ],
   "execution_count": 5
  },
  {
   "metadata": {
    "ExecuteTime": {
     "end_time": "2024-10-12T14:55:46.805984Z",
     "start_time": "2024-10-12T14:55:46.785549Z"
    }
   },
   "cell_type": "code",
   "source": [
    "class ImageSequenceDataset(Dataset):\n",
    "    def __init__(self, image_folder):\n",
    "        self.image_folder = image_folder\n",
    "        self.images = sorted(os.listdir(image_folder), key=lambda x: int(x.split('.')[0]))  # 按序号排序\n",
    "        self.transform = transforms.Compose([\n",
    "            transforms.Resize((256, 256)),  # 调整图片大小\n",
    "            transforms.ToTensor(),  # 转换为张量\n",
    "        ])\n",
    "\n",
    "    def __len__(self):\n",
    "        return len(self.images) - 1  # 返回序列数量\n",
    "\n",
    "    def __getitem__(self, idx):\n",
    "        img_path = os.path.join(self.image_folder, self.images[idx])\n",
    "        img = Image.open(img_path).convert('RGB')  # 读取图片并转换为RGB\n",
    "        img = self.transform(img)\n",
    "        \n",
    "        next_img_path = os.path.join(self.image_folder, self.images[idx + 1])\n",
    "        next_img = Image.open(next_img_path).convert('RGB')\n",
    "        next_img = self.transform(next_img)\n",
    "\n",
    "        return img, next_img\n"
   ],
   "id": "97e4bbe9a33274b0",
   "outputs": [],
   "execution_count": 6
  },
  {
   "metadata": {
    "ExecuteTime": {
     "end_time": "2024-10-12T14:55:46.853254Z",
     "start_time": "2024-10-12T14:55:46.839288Z"
    }
   },
   "cell_type": "code",
   "source": [
    "class ImageLSTM(nn.Module):\n",
    "    def __init__(self):\n",
    "        super(ImageLSTM, self).__init__()\n",
    "        self.lstm = nn.LSTM(input_size=256 * 256 * 3, hidden_size=256, num_layers=2, batch_first=True)\n",
    "        self.fc = nn.Linear(256, 256 * 256 * 3)  # 输出下一张图像\n",
    "\n",
    "    def forward(self, x):\n",
    "        batch_size, seq_length, C, H, W = x.size()\n",
    "        x = x.view(batch_size, seq_length, -1)  # 重塑为 (batch_size, seq_length, input_size)\n",
    "        out, _ = self.lstm(x)  # LSTM层\n",
    "        out = self.fc(out[:, -1, :])  # 取最后一个时间步的输出\n",
    "        out = out.view(batch_size, 3, 256, 256)  # 变形为图像\n",
    "        return out\n"
   ],
   "id": "a6f3d213bd3bddda",
   "outputs": [],
   "execution_count": 7
  },
  {
   "metadata": {
    "ExecuteTime": {
     "end_time": "2024-10-12T14:56:35.513788Z",
     "start_time": "2024-10-12T14:55:46.886398Z"
    }
   },
   "cell_type": "code",
   "source": [
    "# 设置参数\n",
    "image_folder = 'overDataSet'  # 替换为你的图片文件夹路径\n",
    "batch_size = 4\n",
    "learning_rate = 0.001\n",
    "num_epochs = 10\n",
    "\n",
    "# 创建数据集和数据加载器\n",
    "dataset = ImageSequenceDataset(image_folder)\n",
    "dataloader = DataLoader(dataset, batch_size=batch_size, shuffle=True)\n",
    "\n",
    "# 初始化模型、损失函数和优化器\n",
    "model = ImageLSTM().to(device)\n",
    "criterion = nn.MSELoss()\n",
    "optimizer = torch.optim.Adam(model.parameters(), lr=learning_rate)\n",
    "\n",
    "# 训练模型\n",
    "for epoch in range(num_epochs):\n",
    "    for i, (imgs, next_imgs) in enumerate(dataloader):\n",
    "        imgs = imgs.to(device)\n",
    "        next_imgs = next_imgs.to(device)\n",
    "        inputs = imgs.unsqueeze(1)  # 为LSTM添加时间步维度 (batch_size, seq_length, C, H, W)\n",
    "\n",
    "        optimizer.zero_grad()\n",
    "        outputs = model(inputs)\n",
    "        loss = criterion(outputs, next_imgs)  # 计算损失\n",
    "        loss.backward()\n",
    "        optimizer.step()\n",
    "\n",
    "        if i % 10 == 0:  # 每10个batch输出一次loss\n",
    "            print(f'Epoch [{epoch+1}/{num_epochs}], Step [{i}/{len(dataloader)}], Loss: {loss.item():.4f}')\n"
   ],
   "id": "3ba27e33700683c3",
   "outputs": [
    {
     "name": "stdout",
     "output_type": "stream",
     "text": [
      "Epoch [1/10], Step [0/60], Loss: 0.0074\n",
      "Epoch [1/10], Step [10/60], Loss: 0.0117\n",
      "Epoch [1/10], Step [20/60], Loss: 0.0052\n",
      "Epoch [1/10], Step [30/60], Loss: 0.0180\n",
      "Epoch [1/10], Step [40/60], Loss: 0.0156\n",
      "Epoch [1/10], Step [50/60], Loss: 0.0087\n",
      "Epoch [2/10], Step [0/60], Loss: 0.0137\n",
      "Epoch [2/10], Step [10/60], Loss: 0.0103\n",
      "Epoch [2/10], Step [20/60], Loss: 0.0092\n",
      "Epoch [2/10], Step [30/60], Loss: 0.0145\n",
      "Epoch [2/10], Step [40/60], Loss: 0.0100\n",
      "Epoch [2/10], Step [50/60], Loss: 0.0097\n",
      "Epoch [3/10], Step [0/60], Loss: 0.0099\n",
      "Epoch [3/10], Step [10/60], Loss: 0.0065\n",
      "Epoch [3/10], Step [20/60], Loss: 0.0098\n",
      "Epoch [3/10], Step [30/60], Loss: 0.0086\n",
      "Epoch [3/10], Step [40/60], Loss: 0.0150\n",
      "Epoch [3/10], Step [50/60], Loss: 0.0073\n",
      "Epoch [4/10], Step [0/60], Loss: 0.0044\n",
      "Epoch [4/10], Step [10/60], Loss: 0.0118\n",
      "Epoch [4/10], Step [20/60], Loss: 0.0061\n",
      "Epoch [4/10], Step [30/60], Loss: 0.0037\n",
      "Epoch [4/10], Step [40/60], Loss: 0.0049\n",
      "Epoch [4/10], Step [50/60], Loss: 0.0143\n",
      "Epoch [5/10], Step [0/60], Loss: 0.0045\n",
      "Epoch [5/10], Step [10/60], Loss: 0.0064\n",
      "Epoch [5/10], Step [20/60], Loss: 0.0035\n",
      "Epoch [5/10], Step [30/60], Loss: 0.0101\n",
      "Epoch [5/10], Step [40/60], Loss: 0.0067\n",
      "Epoch [5/10], Step [50/60], Loss: 0.0089\n",
      "Epoch [6/10], Step [0/60], Loss: 0.0087\n",
      "Epoch [6/10], Step [10/60], Loss: 0.0107\n",
      "Epoch [6/10], Step [20/60], Loss: 0.0060\n",
      "Epoch [6/10], Step [30/60], Loss: 0.0095\n",
      "Epoch [6/10], Step [40/60], Loss: 0.0095\n",
      "Epoch [6/10], Step [50/60], Loss: 0.0060\n",
      "Epoch [7/10], Step [0/60], Loss: 0.0028\n",
      "Epoch [7/10], Step [10/60], Loss: 0.0041\n",
      "Epoch [7/10], Step [20/60], Loss: 0.0084\n",
      "Epoch [7/10], Step [30/60], Loss: 0.0051\n",
      "Epoch [7/10], Step [40/60], Loss: 0.0056\n",
      "Epoch [7/10], Step [50/60], Loss: 0.0095\n",
      "Epoch [8/10], Step [0/60], Loss: 0.0060\n",
      "Epoch [8/10], Step [10/60], Loss: 0.0041\n",
      "Epoch [8/10], Step [20/60], Loss: 0.0025\n",
      "Epoch [8/10], Step [30/60], Loss: 0.0074\n",
      "Epoch [8/10], Step [40/60], Loss: 0.0046\n",
      "Epoch [8/10], Step [50/60], Loss: 0.0034\n",
      "Epoch [9/10], Step [0/60], Loss: 0.0092\n",
      "Epoch [9/10], Step [10/60], Loss: 0.0084\n",
      "Epoch [9/10], Step [20/60], Loss: 0.0090\n",
      "Epoch [9/10], Step [30/60], Loss: 0.0010\n",
      "Epoch [9/10], Step [40/60], Loss: 0.0051\n",
      "Epoch [9/10], Step [50/60], Loss: 0.0081\n",
      "Epoch [10/10], Step [0/60], Loss: 0.0025\n",
      "Epoch [10/10], Step [10/60], Loss: 0.0033\n",
      "Epoch [10/10], Step [20/60], Loss: 0.0092\n",
      "Epoch [10/10], Step [30/60], Loss: 0.0081\n",
      "Epoch [10/10], Step [40/60], Loss: 0.0049\n",
      "Epoch [10/10], Step [50/60], Loss: 0.0073\n"
     ]
    }
   ],
   "execution_count": 8
  },
  {
   "metadata": {
    "ExecuteTime": {
     "end_time": "2024-10-12T14:59:08.245863Z",
     "start_time": "2024-10-12T14:59:08.132138Z"
    }
   },
   "cell_type": "code",
   "source": [
    "# 预测下一张图片\n",
    "model.eval()\n",
    "with torch.no_grad():\n",
    "    last_img_path = os.path.join(image_folder, '240.png')  # 最后一张图片的名称\n",
    "    last_img = Image.open(last_img_path).convert('RGB')\n",
    "    last_img = transforms.Resize((256, 256))(last_img)\n",
    "    last_img = transforms.ToTensor()(last_img).unsqueeze(0)  # 添加批量维度\n",
    "\n",
    "    # 输入为当前图像，seq_length = 1\n",
    "    last_images = last_img.unsqueeze(1).to(device)  # 变为 (1, 1, 3, 256, 256)\n",
    "\n",
    "    predicted_img = model(last_images)\n",
    "    predicted_img = predicted_img.squeeze(0).permute(1, 2, 0)  # 变形为HWC\n",
    "    predicted_img = (predicted_img.cpu().numpy() * 255).astype('uint8')\n",
    "\n",
    "    # 保存或显示预测结果\n",
    "    Image.fromarray(predicted_img).save('LSTMpredicted_image.png')\n"
   ],
   "id": "a6838c6ca8aedf8b",
   "outputs": [],
   "execution_count": 15
  }
 ],
 "metadata": {
  "kernelspec": {
   "display_name": "Python 3",
   "language": "python",
   "name": "python3"
  },
  "language_info": {
   "codemirror_mode": {
    "name": "ipython",
    "version": 2
   },
   "file_extension": ".py",
   "mimetype": "text/x-python",
   "name": "python",
   "nbconvert_exporter": "python",
   "pygments_lexer": "ipython2",
   "version": "2.7.6"
  }
 },
 "nbformat": 4,
 "nbformat_minor": 5
}
