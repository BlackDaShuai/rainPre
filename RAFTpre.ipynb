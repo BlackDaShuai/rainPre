{
 "cells": [
  {
   "cell_type": "code",
   "id": "initial_id",
   "metadata": {
    "collapsed": true,
    "ExecuteTime": {
     "end_time": "2024-10-13T09:15:48.073857Z",
     "start_time": "2024-10-13T09:15:47.789388Z"
    }
   },
   "source": [
    "import os\n",
    "import glob\n",
    "import torch\n",
    "import torchvision.transforms.functional as F\n",
    "import torchvision.transforms as transforms\n",
    "from PIL import Image\n",
    "import matplotlib.pyplot as plt\n",
    "from torchvision.models.optical_flow import raft_large, Raft_Large_Weights, raft_small, Raft_Small_Weights\n",
    "from torchvision.utils import flow_to_image\n",
    "device = \"cuda\" if torch.cuda.is_available() else \"cpu\"\n",
    "\n",
    "# 配置\n",
    "image_folder = 'overDataSet'  # 替换为你的图片文件夹路径\n",
    "output_folder = 'lightFlowOutput'  # 替换为你希望保存输出的文件夹路径\n",
    "output_PRE_folder = 'lightFlowOutputPre'\n",
    "os.makedirs(output_folder, exist_ok=True)\n",
    "os.makedirs(output_PRE_folder, exist_ok=True)\n",
    "\n",
    "# 加载模型\n",
    "# weights1= Raft_Large_Weights.DEFAULT\n",
    "weights1= Raft_Large_Weights.C_T_SKHT_K_V2\n",
    "weights2= Raft_Small_Weights.DEFAULT\n",
    "model = raft_large(weights=weights1, progress=False).to(device)\n",
    "model = model.eval()\n",
    "\n",
    "# 图片预处理函数，像素点需要被8整除\n",
    "# def preprocess(img1, img2):\n",
    "#     img1 = F.resize(img1, size=[520, 960], antialias=False)\n",
    "#     img2 = F.resize(img2, size=[520, 960], antialias=False)\n",
    "#     return transforms(img1, img2)\n",
    "\n",
    "# 获取所有图片文件\n",
    "image_files = sorted(glob.glob(os.path.join(image_folder, '*.png')))\n",
    "num_frames = len(image_files)\n",
    "\n"
   ],
   "outputs": [],
   "execution_count": 25
  },
  {
   "metadata": {
    "ExecuteTime": {
     "end_time": "2024-10-13T09:15:48.537209Z",
     "start_time": "2024-10-13T09:15:48.085371Z"
    }
   },
   "cell_type": "code",
   "source": [
    "# 帧预测函数\n",
    "def apply_flow(image, flow):\n",
    "        flow = flow.permute(0, 2, 3, 1)  # (N, H, W, 2)\n",
    "        h, w = flow.shape[1:3]\n",
    "        y_coords, x_coords = torch.meshgrid(torch.arange(h), torch.arange(w), indexing='ij')\n",
    "        y_coords, x_coords = y_coords.float(), x_coords.float()\n",
    "        y_coords, x_coords = y_coords.to(flow.device), x_coords.to(flow.device)\n",
    "        \n",
    "        # 计算新的坐标\n",
    "        new_x_coords = x_coords + flow[:, :, :, 0]\n",
    "        new_y_coords = y_coords + flow[:, :, :, 1]\n",
    "        \n",
    "        # 归一化坐标\n",
    "        new_x_coords = (new_x_coords / (w - 1)) * 2 - 1\n",
    "        new_y_coords = (new_y_coords / (h - 1)) * 2 - 1\n",
    "        \n",
    "        # 使用双线性插值采样\n",
    "        grid = torch.stack([new_x_coords, new_y_coords], dim=-1)\n",
    "        warped_image = torch.nn.functional.grid_sample(image, grid, mode='bicubic', padding_mode='border', align_corners=True)\n",
    "        return warped_image\n",
    "\n",
    "\n",
    "# 进行光流预测\n",
    "for i in range(num_frames - 1):\n",
    "    img1 = Image.open(image_files[i]).convert('RGB')\n",
    "    img2 = Image.open(image_files[i + 1]).convert('RGB')\n",
    "\n",
    "    img1_tensor = F.to_tensor(img1).unsqueeze(0)\n",
    "    img2_tensor = F.to_tensor(img2).unsqueeze(0)\n",
    "\n",
    "    # img1_tensor, img2_tensor = preprocess(img1_tensor, img2_tensor)\n",
    "\n",
    "    with torch.no_grad():\n",
    "        list_of_flows = model(img1_tensor.to(device), img2_tensor.to(device))\n",
    "        predicted_flows = list_of_flows[-1].cpu()\n",
    "    \n",
    "    sum_flows += predicted_flows\n",
    "    flow_imgs = flow_to_image(predicted_flows)\n",
    "    \n",
    "    # 保存光流结果\n",
    "    output_file = os.path.join(output_folder, f'flow_{i:03d}.png')\n",
    "    plt.imsave(output_file, flow_imgs.squeeze().permute(1, 2, 0).numpy())\n",
    "\n",
    "    print(f\"Processed frame {i} to {i+1}\")\n",
    "\n",
    "    \n",
    "    # 进行帧预测\n",
    "    predicted_next_frame = apply_flow(img2_tensor, predicted_flows)\n",
    "    # 保存预测结果\n",
    "    output_file = os.path.join(output_PRE_folder, f'predicted_frame_{i+2:03d}.png')\n",
    "    predicted_next_frame = predicted_next_frame.squeeze().permute(1, 2, 0).clamp(0, 1)\n",
    "    plt.imsave(output_file, predicted_next_frame.numpy())\n",
    "\n",
    "print(\"All frames processed.\")"
   ],
   "id": "d35b22a0e34208c2",
   "outputs": [
    {
     "ename": "NameError",
     "evalue": "name 'sum_flows' is not defined",
     "output_type": "error",
     "traceback": [
      "\u001B[1;31m---------------------------------------------------------------------------\u001B[0m",
      "\u001B[1;31mNameError\u001B[0m                                 Traceback (most recent call last)",
      "Cell \u001B[1;32mIn[26], line 37\u001B[0m\n\u001B[0;32m     34\u001B[0m     list_of_flows \u001B[38;5;241m=\u001B[39m model(img1_tensor\u001B[38;5;241m.\u001B[39mto(device), img2_tensor\u001B[38;5;241m.\u001B[39mto(device))\n\u001B[0;32m     35\u001B[0m     predicted_flows \u001B[38;5;241m=\u001B[39m list_of_flows[\u001B[38;5;241m-\u001B[39m\u001B[38;5;241m1\u001B[39m]\u001B[38;5;241m.\u001B[39mcpu()\n\u001B[1;32m---> 37\u001B[0m sum_flows \u001B[38;5;241m+\u001B[39m\u001B[38;5;241m=\u001B[39m predicted_flows\n\u001B[0;32m     38\u001B[0m flow_imgs \u001B[38;5;241m=\u001B[39m flow_to_image(predicted_flows)\n\u001B[0;32m     40\u001B[0m \u001B[38;5;66;03m# 保存光流结果\u001B[39;00m\n",
      "\u001B[1;31mNameError\u001B[0m: name 'sum_flows' is not defined"
     ]
    }
   ],
   "execution_count": 26
  },
  {
   "metadata": {
    "ExecuteTime": {
     "end_time": "2024-10-13T09:15:48.607251500Z",
     "start_time": "2024-10-13T08:54:23.930859Z"
    }
   },
   "cell_type": "code",
   "source": "",
   "id": "9a3b126ac1289828",
   "outputs": [],
   "execution_count": null
  }
 ],
 "metadata": {
  "kernelspec": {
   "display_name": "Python 3",
   "language": "python",
   "name": "python3"
  },
  "language_info": {
   "codemirror_mode": {
    "name": "ipython",
    "version": 2
   },
   "file_extension": ".py",
   "mimetype": "text/x-python",
   "name": "python",
   "nbconvert_exporter": "python",
   "pygments_lexer": "ipython2",
   "version": "2.7.6"
  }
 },
 "nbformat": 4,
 "nbformat_minor": 5
}
